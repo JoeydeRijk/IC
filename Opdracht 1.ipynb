{
 "cells": [
  {
   "cell_type": "code",
   "execution_count": 1,
   "metadata": {
    "collapsed": true
   },
   "outputs": [],
   "source": [
    "import matplotlib.pyplot as plt"
   ]
  },
  {
   "cell_type": "code",
   "execution_count": 2,
   "metadata": {
    "collapsed": true
   },
   "outputs": [],
   "source": [
    "import pandas as pd"
   ]
  },
  {
   "cell_type": "markdown",
   "metadata": {},
   "source": [
    "# Olympische Spelen\n",
    "\n",
    "Het doel van dit rapport is het achterhalen en presenteren van gegevens over de behaalde medailles uit de olympische spelen van 2016. Verder moet voor Nederland een voorspelling gemaakt worden voor het aantal medailles in 2020."
   ]
  },
  {
   "cell_type": "code",
   "execution_count": 3,
   "metadata": {
    "collapsed": false
   },
   "outputs": [
    {
     "data": {
      "text/html": [
       "<div>\n",
       "<table border=\"1\" class=\"dataframe\">\n",
       "  <thead>\n",
       "    <tr style=\"text-align: right;\">\n",
       "      <th></th>\n",
       "      <th>Land</th>\n",
       "      <th>Goud</th>\n",
       "      <th>Zilver</th>\n",
       "      <th>Brons</th>\n",
       "    </tr>\n",
       "  </thead>\n",
       "  <tbody>\n",
       "    <tr>\n",
       "      <th>0</th>\n",
       "      <td>ALGERIA</td>\n",
       "      <td>0</td>\n",
       "      <td>2</td>\n",
       "      <td>0</td>\n",
       "    </tr>\n",
       "    <tr>\n",
       "      <th>1</th>\n",
       "      <td>ARGENTINA</td>\n",
       "      <td>3</td>\n",
       "      <td>1</td>\n",
       "      <td>0</td>\n",
       "    </tr>\n",
       "    <tr>\n",
       "      <th>2</th>\n",
       "      <td>ARMENIA</td>\n",
       "      <td>1</td>\n",
       "      <td>3</td>\n",
       "      <td>0</td>\n",
       "    </tr>\n",
       "    <tr>\n",
       "      <th>3</th>\n",
       "      <td>AUSTRALIA</td>\n",
       "      <td>8</td>\n",
       "      <td>11</td>\n",
       "      <td>10</td>\n",
       "    </tr>\n",
       "    <tr>\n",
       "      <th>4</th>\n",
       "      <td>AUSTRIA</td>\n",
       "      <td>0</td>\n",
       "      <td>0</td>\n",
       "      <td>1</td>\n",
       "    </tr>\n",
       "  </tbody>\n",
       "</table>\n",
       "</div>"
      ],
      "text/plain": [
       "        Land  Goud  Zilver  Brons\n",
       "0    ALGERIA     0       2      0\n",
       "1  ARGENTINA     3       1      0\n",
       "2    ARMENIA     1       3      0\n",
       "3  AUSTRALIA     8      11     10\n",
       "4    AUSTRIA     0       0      1"
      ]
     },
     "execution_count": 3,
     "metadata": {},
     "output_type": "execute_result"
    }
   ],
   "source": [
    "df = pd.read_csv(\"OlympischeSpelen2016.csv\", sep = \";\",  encoding = \"ISO-8859-1\")\n",
    "df.head(5)"
   ]
  },
  {
   "cell_type": "code",
   "execution_count": 4,
   "metadata": {
    "collapsed": false
   },
   "outputs": [
    {
     "data": {
      "text/html": [
       "<div>\n",
       "<table border=\"1\" class=\"dataframe\">\n",
       "  <thead>\n",
       "    <tr style=\"text-align: right;\">\n",
       "      <th></th>\n",
       "      <th>Land</th>\n",
       "      <th>Goud</th>\n",
       "      <th>Zilver</th>\n",
       "      <th>Brons</th>\n",
       "      <th>Totaal</th>\n",
       "    </tr>\n",
       "  </thead>\n",
       "  <tbody>\n",
       "    <tr>\n",
       "      <th>0</th>\n",
       "      <td>ALGERIA</td>\n",
       "      <td>0</td>\n",
       "      <td>2</td>\n",
       "      <td>0</td>\n",
       "      <td>2</td>\n",
       "    </tr>\n",
       "    <tr>\n",
       "      <th>1</th>\n",
       "      <td>ARGENTINA</td>\n",
       "      <td>3</td>\n",
       "      <td>1</td>\n",
       "      <td>0</td>\n",
       "      <td>4</td>\n",
       "    </tr>\n",
       "    <tr>\n",
       "      <th>2</th>\n",
       "      <td>ARMENIA</td>\n",
       "      <td>1</td>\n",
       "      <td>3</td>\n",
       "      <td>0</td>\n",
       "      <td>4</td>\n",
       "    </tr>\n",
       "    <tr>\n",
       "      <th>3</th>\n",
       "      <td>AUSTRALIA</td>\n",
       "      <td>8</td>\n",
       "      <td>11</td>\n",
       "      <td>10</td>\n",
       "      <td>29</td>\n",
       "    </tr>\n",
       "    <tr>\n",
       "      <th>4</th>\n",
       "      <td>AUSTRIA</td>\n",
       "      <td>0</td>\n",
       "      <td>0</td>\n",
       "      <td>1</td>\n",
       "      <td>1</td>\n",
       "    </tr>\n",
       "  </tbody>\n",
       "</table>\n",
       "</div>"
      ],
      "text/plain": [
       "        Land  Goud  Zilver  Brons  Totaal\n",
       "0    ALGERIA     0       2      0       2\n",
       "1  ARGENTINA     3       1      0       4\n",
       "2    ARMENIA     1       3      0       4\n",
       "3  AUSTRALIA     8      11     10      29\n",
       "4    AUSTRIA     0       0      1       1"
      ]
     },
     "execution_count": 4,
     "metadata": {},
     "output_type": "execute_result"
    }
   ],
   "source": [
    "df['Totaal'] = df['Goud'] + df['Zilver']  + df['Brons']\n",
    "df.head(5)"
   ]
  },
  {
   "cell_type": "code",
   "execution_count": 5,
   "metadata": {
    "collapsed": false
   },
   "outputs": [
    {
     "name": "stdout",
     "output_type": "stream",
     "text": [
      "Totaal =  974\n",
      "Maximaal =  121\n",
      "Gemiddelde =  11.195402298850574\n"
     ]
    }
   ],
   "source": [
    "#Totaal aantal behaalde medailles =\n",
    "totaal = df['Totaal'].sum()\n",
    "max = df['Totaal'].max()\n",
    "gem = df['Totaal'].mean()\n",
    "print(\"Totaal = \" , totaal)\n",
    "print(\"Maximaal = \" , max)\n",
    "print(\"Gemiddelde = \" , gem)"
   ]
  },
  {
   "cell_type": "code",
   "execution_count": 6,
   "metadata": {
    "collapsed": false
   },
   "outputs": [
    {
     "name": "stdout",
     "output_type": "stream",
     "text": [
      "Land met het meeste aantal medailles =  UNITED STATES\n"
     ]
    }
   ],
   "source": [
    "top = df.sort_values('Totaal', ascending=[0]).iloc[0][\"Land\"]\n",
    "print(\"Land met het meeste aantal medailles = \", top)"
   ]
  },
  {
   "cell_type": "code",
   "execution_count": 7,
   "metadata": {
    "collapsed": false,
    "scrolled": true
   },
   "outputs": [
    {
     "data": {
      "text/html": [
       "<div>\n",
       "<table border=\"1\" class=\"dataframe\">\n",
       "  <thead>\n",
       "    <tr style=\"text-align: right;\">\n",
       "      <th></th>\n",
       "      <th>Land</th>\n",
       "      <th>Goud</th>\n",
       "      <th>Zilver</th>\n",
       "      <th>Brons</th>\n",
       "      <th>Totaal</th>\n",
       "    </tr>\n",
       "  </thead>\n",
       "  <tbody>\n",
       "    <tr>\n",
       "      <th>12</th>\n",
       "      <td>NETHERLANDS</td>\n",
       "      <td>8</td>\n",
       "      <td>7</td>\n",
       "      <td>4</td>\n",
       "      <td>19</td>\n",
       "    </tr>\n",
       "  </tbody>\n",
       "</table>\n",
       "</div>"
      ],
      "text/plain": [
       "           Land  Goud  Zilver  Brons  Totaal\n",
       "12  NETHERLANDS     8       7      4      19"
      ]
     },
     "execution_count": 7,
     "metadata": {},
     "output_type": "execute_result"
    }
   ],
   "source": [
    "newdf = df.sort_values('Totaal', ascending=[0]).reset_index(drop=True)\n",
    "plaatsNL = newdf[newdf['Land'] == 'NETHERLANDS']\n",
    "plaatsNL"
   ]
  },
  {
   "cell_type": "code",
   "execution_count": 8,
   "metadata": {
    "collapsed": false
   },
   "outputs": [
    {
     "data": {
      "text/html": [
       "<div>\n",
       "<table border=\"1\" class=\"dataframe\">\n",
       "  <thead>\n",
       "    <tr style=\"text-align: right;\">\n",
       "      <th></th>\n",
       "      <th>Land</th>\n",
       "      <th>Goud</th>\n",
       "      <th>Zilver</th>\n",
       "      <th>Brons</th>\n",
       "      <th>Totaal</th>\n",
       "    </tr>\n",
       "  </thead>\n",
       "  <tbody>\n",
       "    <tr>\n",
       "      <th>0</th>\n",
       "      <td>ALGERIA</td>\n",
       "      <td>0</td>\n",
       "      <td>2</td>\n",
       "      <td>0</td>\n",
       "      <td>2</td>\n",
       "    </tr>\n",
       "    <tr>\n",
       "      <th>1</th>\n",
       "      <td>ARGENTINA</td>\n",
       "      <td>3</td>\n",
       "      <td>1</td>\n",
       "      <td>0</td>\n",
       "      <td>4</td>\n",
       "    </tr>\n",
       "    <tr>\n",
       "      <th>2</th>\n",
       "      <td>ARMENIA</td>\n",
       "      <td>1</td>\n",
       "      <td>3</td>\n",
       "      <td>0</td>\n",
       "      <td>4</td>\n",
       "    </tr>\n",
       "    <tr>\n",
       "      <th>3</th>\n",
       "      <td>AUSTRALIA</td>\n",
       "      <td>8</td>\n",
       "      <td>11</td>\n",
       "      <td>10</td>\n",
       "      <td>29</td>\n",
       "    </tr>\n",
       "    <tr>\n",
       "      <th>4</th>\n",
       "      <td>AUSTRIA</td>\n",
       "      <td>0</td>\n",
       "      <td>0</td>\n",
       "      <td>1</td>\n",
       "      <td>1</td>\n",
       "    </tr>\n",
       "    <tr>\n",
       "      <th>5</th>\n",
       "      <td>AZERBAIJAN</td>\n",
       "      <td>1</td>\n",
       "      <td>7</td>\n",
       "      <td>10</td>\n",
       "      <td>18</td>\n",
       "    </tr>\n",
       "    <tr>\n",
       "      <th>6</th>\n",
       "      <td>BAHAMAS</td>\n",
       "      <td>1</td>\n",
       "      <td>0</td>\n",
       "      <td>1</td>\n",
       "      <td>2</td>\n",
       "    </tr>\n",
       "    <tr>\n",
       "      <th>7</th>\n",
       "      <td>BAHRAIN</td>\n",
       "      <td>1</td>\n",
       "      <td>1</td>\n",
       "      <td>0</td>\n",
       "      <td>2</td>\n",
       "    </tr>\n",
       "    <tr>\n",
       "      <th>8</th>\n",
       "      <td>BELARUS</td>\n",
       "      <td>1</td>\n",
       "      <td>4</td>\n",
       "      <td>4</td>\n",
       "      <td>9</td>\n",
       "    </tr>\n",
       "    <tr>\n",
       "      <th>9</th>\n",
       "      <td>BELGIUM</td>\n",
       "      <td>2</td>\n",
       "      <td>2</td>\n",
       "      <td>2</td>\n",
       "      <td>6</td>\n",
       "    </tr>\n",
       "    <tr>\n",
       "      <th>10</th>\n",
       "      <td>BRAZILBULGARIABURUNDICANADACHINACOLOMBIACÔTE D...</td>\n",
       "      <td>289</td>\n",
       "      <td>276</td>\n",
       "      <td>332</td>\n",
       "      <td>897</td>\n",
       "    </tr>\n",
       "    <tr>\n",
       "      <th>11</th>\n",
       "      <td>ALGERIAARGENTINAARMENIAAUSTRALIAAUSTRIAAZERBAI...</td>\n",
       "      <td>307</td>\n",
       "      <td>307</td>\n",
       "      <td>360</td>\n",
       "      <td>974</td>\n",
       "    </tr>\n",
       "  </tbody>\n",
       "</table>\n",
       "</div>"
      ],
      "text/plain": [
       "                                                 Land  Goud  Zilver  Brons  \\\n",
       "0                                             ALGERIA     0       2      0   \n",
       "1                                           ARGENTINA     3       1      0   \n",
       "2                                             ARMENIA     1       3      0   \n",
       "3                                           AUSTRALIA     8      11     10   \n",
       "4                                             AUSTRIA     0       0      1   \n",
       "5                                          AZERBAIJAN     1       7     10   \n",
       "6                                             BAHAMAS     1       0      1   \n",
       "7                                             BAHRAIN     1       1      0   \n",
       "8                                             BELARUS     1       4      4   \n",
       "9                                             BELGIUM     2       2      2   \n",
       "10  BRAZILBULGARIABURUNDICANADACHINACOLOMBIACÔTE D...   289     276    332   \n",
       "11  ALGERIAARGENTINAARMENIAAUSTRALIAAUSTRIAAZERBAI...   307     307    360   \n",
       "\n",
       "    Totaal  \n",
       "0        2  \n",
       "1        4  \n",
       "2        4  \n",
       "3       29  \n",
       "4        1  \n",
       "5       18  \n",
       "6        2  \n",
       "7        2  \n",
       "8        9  \n",
       "9        6  \n",
       "10     897  \n",
       "11     974  "
      ]
     },
     "execution_count": 8,
     "metadata": {},
     "output_type": "execute_result"
    }
   ],
   "source": [
    "dfDOSTop10 = df.iloc[0:10]\n",
    "dfDOSRest = df[10:].sum()\n",
    "dfTotaal = df.sum()\n",
    "dfNew = dfDOSTop10.append(dfDOSRest, ignore_index = True)\n",
    "dfDOSNew = dfNew.append(dfTotaal, ignore_index = True)\n",
    "dfDOSNew\n"
   ]
  },
  {
   "cell_type": "code",
   "execution_count": 9,
   "metadata": {
    "collapsed": false
   },
   "outputs": [
    {
     "data": {
      "text/html": [
       "<div>\n",
       "<table border=\"1\" class=\"dataframe\">\n",
       "  <thead>\n",
       "    <tr style=\"text-align: right;\">\n",
       "      <th></th>\n",
       "      <th>Land</th>\n",
       "      <th>Goud</th>\n",
       "      <th>Zilver</th>\n",
       "      <th>Brons</th>\n",
       "      <th>Totaal</th>\n",
       "    </tr>\n",
       "  </thead>\n",
       "  <tbody>\n",
       "    <tr>\n",
       "      <th>0</th>\n",
       "      <td>UNITED STATES</td>\n",
       "      <td>46</td>\n",
       "      <td>37</td>\n",
       "      <td>38</td>\n",
       "      <td>121</td>\n",
       "    </tr>\n",
       "    <tr>\n",
       "      <th>1</th>\n",
       "      <td>CHINA</td>\n",
       "      <td>26</td>\n",
       "      <td>18</td>\n",
       "      <td>26</td>\n",
       "      <td>70</td>\n",
       "    </tr>\n",
       "    <tr>\n",
       "      <th>2</th>\n",
       "      <td>GREAT BRITAIN</td>\n",
       "      <td>27</td>\n",
       "      <td>23</td>\n",
       "      <td>17</td>\n",
       "      <td>67</td>\n",
       "    </tr>\n",
       "    <tr>\n",
       "      <th>3</th>\n",
       "      <td>RUSSIAN FEDERATION</td>\n",
       "      <td>19</td>\n",
       "      <td>18</td>\n",
       "      <td>19</td>\n",
       "      <td>56</td>\n",
       "    </tr>\n",
       "    <tr>\n",
       "      <th>4</th>\n",
       "      <td>FRANCE</td>\n",
       "      <td>10</td>\n",
       "      <td>18</td>\n",
       "      <td>14</td>\n",
       "      <td>42</td>\n",
       "    </tr>\n",
       "    <tr>\n",
       "      <th>5</th>\n",
       "      <td>GERMANY</td>\n",
       "      <td>17</td>\n",
       "      <td>10</td>\n",
       "      <td>15</td>\n",
       "      <td>42</td>\n",
       "    </tr>\n",
       "    <tr>\n",
       "      <th>6</th>\n",
       "      <td>JAPAN</td>\n",
       "      <td>12</td>\n",
       "      <td>8</td>\n",
       "      <td>21</td>\n",
       "      <td>41</td>\n",
       "    </tr>\n",
       "    <tr>\n",
       "      <th>7</th>\n",
       "      <td>AUSTRALIA</td>\n",
       "      <td>8</td>\n",
       "      <td>11</td>\n",
       "      <td>10</td>\n",
       "      <td>29</td>\n",
       "    </tr>\n",
       "    <tr>\n",
       "      <th>8</th>\n",
       "      <td>ITALY</td>\n",
       "      <td>8</td>\n",
       "      <td>12</td>\n",
       "      <td>8</td>\n",
       "      <td>28</td>\n",
       "    </tr>\n",
       "    <tr>\n",
       "      <th>9</th>\n",
       "      <td>CANADA</td>\n",
       "      <td>4</td>\n",
       "      <td>3</td>\n",
       "      <td>15</td>\n",
       "      <td>22</td>\n",
       "    </tr>\n",
       "    <tr>\n",
       "      <th>10</th>\n",
       "      <td>Remaining</td>\n",
       "      <td>130</td>\n",
       "      <td>149</td>\n",
       "      <td>177</td>\n",
       "      <td>456</td>\n",
       "    </tr>\n",
       "    <tr>\n",
       "      <th>11</th>\n",
       "      <td>Totaal</td>\n",
       "      <td>307</td>\n",
       "      <td>307</td>\n",
       "      <td>360</td>\n",
       "      <td>974</td>\n",
       "    </tr>\n",
       "  </tbody>\n",
       "</table>\n",
       "</div>"
      ],
      "text/plain": [
       "                  Land  Goud  Zilver  Brons  Totaal\n",
       "0        UNITED STATES    46      37     38     121\n",
       "1                CHINA    26      18     26      70\n",
       "2        GREAT BRITAIN    27      23     17      67\n",
       "3   RUSSIAN FEDERATION    19      18     19      56\n",
       "4               FRANCE    10      18     14      42\n",
       "5              GERMANY    17      10     15      42\n",
       "6                JAPAN    12       8     21      41\n",
       "7            AUSTRALIA     8      11     10      29\n",
       "8                ITALY     8      12      8      28\n",
       "9               CANADA     4       3     15      22\n",
       "10           Remaining   130     149    177     456\n",
       "11              Totaal   307     307    360     974"
      ]
     },
     "execution_count": 9,
     "metadata": {},
     "output_type": "execute_result"
    }
   ],
   "source": [
    "newtable = df.sort_values('Totaal', ascending=[0]).reset_index(drop=True)\n",
    "\n",
    "\n",
    "newrow = pd.Series({'Land' : 'Remaining',\n",
    "           'Goud' : newtable['Goud'][10:].sum(),\n",
    "           'Zilver' : newtable['Zilver'][10:].sum(),\n",
    "           'Brons' : newtable['Brons'][10:].sum(),\n",
    "           'Totaal' : newtable['Totaal'][10:].sum()})\n",
    "\n",
    "total = pd.Series({'Land' : 'Totaal',\n",
    "           'Goud' : newtable['Goud'].sum(),\n",
    "           'Zilver' : newtable['Zilver'].sum(),\n",
    "           'Brons' : newtable['Brons'].sum(),\n",
    "           'Totaal' : newtable['Totaal'].sum()})\n",
    "tussen = newtable.iloc[0:10].append(newrow, ignore_index = True)\n",
    "tussen.iloc[0:11].append(total, ignore_index = True)"
   ]
  },
  {
   "cell_type": "code",
   "execution_count": 10,
   "metadata": {
    "collapsed": true
   },
   "outputs": [],
   "source": [
    "%matplotlib inline"
   ]
  },
  {
   "cell_type": "code",
   "execution_count": 11,
   "metadata": {
    "collapsed": false
   },
   "outputs": [
    {
     "data": {
      "text/plain": [
       "<matplotlib.text.Text at 0x2ad198881d0>"
      ]
     },
     "execution_count": 11,
     "metadata": {},
     "output_type": "execute_result"
    },
    {
     "data": {
      "image/png": "[encoded data removed]",
      "text/plain": [
       "<matplotlib.figure.Figure at 0x2ad194d5f28>"
      ]
     },
     "metadata": {},
     "output_type": "display_data"
    }
   ],
   "source": [
    "plt.hist(df['Totaal'])\n",
    "plt.xlabel(\"totaal aantal medailles\")\n",
    "plt.ylabel(\"aantal landen\")\n",
    "plt.title(\"medailles per land\")\n",
    "#Dit is geen normale verdeling"
   ]
  },
  {
   "cell_type": "code",
   "execution_count": 12,
   "metadata": {
    "collapsed": false
   },
   "outputs": [
    {
     "data": {
      "text/html": [
       "<div>\n",
       "<table border=\"1\" class=\"dataframe\">\n",
       "  <thead>\n",
       "    <tr style=\"text-align: right;\">\n",
       "      <th></th>\n",
       "      <th>Jaar</th>\n",
       "      <th>Goud</th>\n",
       "      <th>Zilver</th>\n",
       "      <th>Brons</th>\n",
       "    </tr>\n",
       "  </thead>\n",
       "  <tbody>\n",
       "    <tr>\n",
       "      <th>0</th>\n",
       "      <td>1900</td>\n",
       "      <td>0</td>\n",
       "      <td>1</td>\n",
       "      <td>3</td>\n",
       "    </tr>\n",
       "    <tr>\n",
       "      <th>1</th>\n",
       "      <td>1904</td>\n",
       "      <td>0</td>\n",
       "      <td>0</td>\n",
       "      <td>0</td>\n",
       "    </tr>\n",
       "    <tr>\n",
       "      <th>2</th>\n",
       "      <td>1908</td>\n",
       "      <td>0</td>\n",
       "      <td>0</td>\n",
       "      <td>2</td>\n",
       "    </tr>\n",
       "    <tr>\n",
       "      <th>3</th>\n",
       "      <td>1912</td>\n",
       "      <td>0</td>\n",
       "      <td>0</td>\n",
       "      <td>3</td>\n",
       "    </tr>\n",
       "    <tr>\n",
       "      <th>4</th>\n",
       "      <td>1920</td>\n",
       "      <td>4</td>\n",
       "      <td>2</td>\n",
       "      <td>5</td>\n",
       "    </tr>\n",
       "  </tbody>\n",
       "</table>\n",
       "</div>"
      ],
      "text/plain": [
       "   Jaar  Goud  Zilver  Brons\n",
       "0  1900     0       1      3\n",
       "1  1904     0       0      0\n",
       "2  1908     0       0      2\n",
       "3  1912     0       0      3\n",
       "4  1920     4       2      5"
      ]
     },
     "execution_count": 12,
     "metadata": {},
     "output_type": "execute_result"
    }
   ],
   "source": [
    "xlsx = pd.read_excel(\"OlympischeSpelenNederland.xlsx\")\n",
    "xlsx.head(5)"
   ]
  },
  {
   "cell_type": "code",
   "execution_count": 13,
   "metadata": {
    "collapsed": false
   },
   "outputs": [
    {
     "data": {
      "text/html": [
       "<div>\n",
       "<table border=\"1\" class=\"dataframe\">\n",
       "  <thead>\n",
       "    <tr style=\"text-align: right;\">\n",
       "      <th></th>\n",
       "      <th>Jaar</th>\n",
       "      <th>Goud</th>\n",
       "      <th>Zilver</th>\n",
       "      <th>Brons</th>\n",
       "      <th>Totaal</th>\n",
       "    </tr>\n",
       "  </thead>\n",
       "  <tbody>\n",
       "    <tr>\n",
       "      <th>0</th>\n",
       "      <td>1900</td>\n",
       "      <td>0</td>\n",
       "      <td>1</td>\n",
       "      <td>3</td>\n",
       "      <td>4</td>\n",
       "    </tr>\n",
       "    <tr>\n",
       "      <th>1</th>\n",
       "      <td>1904</td>\n",
       "      <td>0</td>\n",
       "      <td>0</td>\n",
       "      <td>0</td>\n",
       "      <td>0</td>\n",
       "    </tr>\n",
       "    <tr>\n",
       "      <th>2</th>\n",
       "      <td>1908</td>\n",
       "      <td>0</td>\n",
       "      <td>0</td>\n",
       "      <td>2</td>\n",
       "      <td>2</td>\n",
       "    </tr>\n",
       "    <tr>\n",
       "      <th>3</th>\n",
       "      <td>1912</td>\n",
       "      <td>0</td>\n",
       "      <td>0</td>\n",
       "      <td>3</td>\n",
       "      <td>3</td>\n",
       "    </tr>\n",
       "    <tr>\n",
       "      <th>4</th>\n",
       "      <td>1920</td>\n",
       "      <td>4</td>\n",
       "      <td>2</td>\n",
       "      <td>5</td>\n",
       "      <td>11</td>\n",
       "    </tr>\n",
       "  </tbody>\n",
       "</table>\n",
       "</div>"
      ],
      "text/plain": [
       "   Jaar  Goud  Zilver  Brons  Totaal\n",
       "0  1900     0       1      3       4\n",
       "1  1904     0       0      0       0\n",
       "2  1908     0       0      2       2\n",
       "3  1912     0       0      3       3\n",
       "4  1920     4       2      5      11"
      ]
     },
     "execution_count": 13,
     "metadata": {},
     "output_type": "execute_result"
    }
   ],
   "source": [
    "xlsx['Totaal'] = xlsx['Goud'] + xlsx['Zilver']  + xlsx['Brons']\n",
    "xlsx.head(5)"
   ]
  },
  {
   "cell_type": "code",
   "execution_count": 14,
   "metadata": {
    "collapsed": false
   },
   "outputs": [
    {
     "data": {
      "text/html": [
       "<div>\n",
       "<table border=\"1\" class=\"dataframe\">\n",
       "  <thead>\n",
       "    <tr style=\"text-align: right;\">\n",
       "      <th></th>\n",
       "      <th>Jaar</th>\n",
       "      <th>Goud</th>\n",
       "      <th>Zilver</th>\n",
       "      <th>Brons</th>\n",
       "      <th>Totaal</th>\n",
       "    </tr>\n",
       "  </thead>\n",
       "  <tbody>\n",
       "    <tr>\n",
       "      <th>17</th>\n",
       "      <td>1980</td>\n",
       "      <td>0</td>\n",
       "      <td>1</td>\n",
       "      <td>2</td>\n",
       "      <td>3</td>\n",
       "    </tr>\n",
       "    <tr>\n",
       "      <th>18</th>\n",
       "      <td>1984</td>\n",
       "      <td>5</td>\n",
       "      <td>2</td>\n",
       "      <td>6</td>\n",
       "      <td>13</td>\n",
       "    </tr>\n",
       "    <tr>\n",
       "      <th>19</th>\n",
       "      <td>1988</td>\n",
       "      <td>2</td>\n",
       "      <td>2</td>\n",
       "      <td>5</td>\n",
       "      <td>9</td>\n",
       "    </tr>\n",
       "    <tr>\n",
       "      <th>20</th>\n",
       "      <td>1992</td>\n",
       "      <td>2</td>\n",
       "      <td>6</td>\n",
       "      <td>7</td>\n",
       "      <td>15</td>\n",
       "    </tr>\n",
       "    <tr>\n",
       "      <th>21</th>\n",
       "      <td>1996</td>\n",
       "      <td>4</td>\n",
       "      <td>5</td>\n",
       "      <td>10</td>\n",
       "      <td>19</td>\n",
       "    </tr>\n",
       "    <tr>\n",
       "      <th>22</th>\n",
       "      <td>2000</td>\n",
       "      <td>12</td>\n",
       "      <td>9</td>\n",
       "      <td>4</td>\n",
       "      <td>25</td>\n",
       "    </tr>\n",
       "    <tr>\n",
       "      <th>23</th>\n",
       "      <td>2004</td>\n",
       "      <td>4</td>\n",
       "      <td>9</td>\n",
       "      <td>9</td>\n",
       "      <td>22</td>\n",
       "    </tr>\n",
       "    <tr>\n",
       "      <th>24</th>\n",
       "      <td>2008</td>\n",
       "      <td>7</td>\n",
       "      <td>5</td>\n",
       "      <td>4</td>\n",
       "      <td>16</td>\n",
       "    </tr>\n",
       "    <tr>\n",
       "      <th>25</th>\n",
       "      <td>2012</td>\n",
       "      <td>6</td>\n",
       "      <td>6</td>\n",
       "      <td>8</td>\n",
       "      <td>20</td>\n",
       "    </tr>\n",
       "    <tr>\n",
       "      <th>26</th>\n",
       "      <td>2016</td>\n",
       "      <td>8</td>\n",
       "      <td>7</td>\n",
       "      <td>4</td>\n",
       "      <td>19</td>\n",
       "    </tr>\n",
       "  </tbody>\n",
       "</table>\n",
       "</div>"
      ],
      "text/plain": [
       "    Jaar  Goud  Zilver  Brons  Totaal\n",
       "17  1980     0       1      2       3\n",
       "18  1984     5       2      6      13\n",
       "19  1988     2       2      5       9\n",
       "20  1992     2       6      7      15\n",
       "21  1996     4       5     10      19\n",
       "22  2000    12       9      4      25\n",
       "23  2004     4       9      9      22\n",
       "24  2008     7       5      4      16\n",
       "25  2012     6       6      8      20\n",
       "26  2016     8       7      4      19"
      ]
     },
     "execution_count": 14,
     "metadata": {},
     "output_type": "execute_result"
    }
   ],
   "source": [
    "jaar1980 = xlsx[xlsx['Jaar'] >= 1980]\n",
    "jaar1980"
   ]
  },
  {
   "cell_type": "code",
   "execution_count": 15,
   "metadata": {
    "collapsed": false
   },
   "outputs": [
    {
     "data": {
      "text/plain": [
       "<matplotlib.text.Text at 0x2ad19a57208>"
      ]
     },
     "execution_count": 15,
     "metadata": {},
     "output_type": "execute_result"
    },
    {
     "data": {
      "image/png": "[encoded data removed]",
      "text/plain": [
       "<matplotlib.figure.Figure at 0x2ad19a214e0>"
      ]
     },
     "metadata": {},
     "output_type": "display_data"
    }
   ],
   "source": [
    "plt.plot(jaar1980['Jaar'],jaar1980['Totaal'], linestyle='--',\n",
    "        marker='*', markerfacecolor='blue', markersize=12)\n",
    "plt.xlabel(\"jaren\")\n",
    "plt.ylabel(\"aantal medailles\")\n",
    "plt.title(\"aantal medailles per jaar\")"
   ]
  },
  {
   "cell_type": "code",
   "execution_count": 16,
   "metadata": {
    "collapsed": false
   },
   "outputs": [
    {
     "name": "stdout",
     "output_type": "stream",
     "text": [
      "De formule is: Aantal leerlingen = -755.9 + 0.4 * Jaartal \n"
     ]
    }
   ],
   "source": [
    "from sklearn import linear_model\n",
    "\n",
    "# Scikit-learn verwacht alleen nummerieke waarden, dus Jaar ook omzetten\n",
    "xlsx['Jaar'] = xlsx['Jaar'].astype(int)\n",
    "\n",
    "# Scikit-learn verwacht 1 of meerdere variabelen in de vorm van een dataframe:\n",
    "X = jaar1980[['Jaar']]\n",
    "\n",
    "# Scikit-learn verwacht de uitkomstwaarden als lijst\n",
    "y = jaar1980.Totaal\n",
    "\n",
    "# Scikit-learn: maken van het lineare regressie model\n",
    "lm = linear_model.LinearRegression()\n",
    "# berekenen van de formule\n",
    "lm.fit(X, y)\n",
    "\n",
    "# bepaling van de coëefficiënten van de formule\n",
    "constante = lm.intercept_\n",
    "jaarfactor = lm.coef_[0]\n",
    "\n",
    "print('De formule is: Aantal leerlingen = {0:.1f} + {1:.1f} * Jaartal '.format(constante,jaarfactor))\n"
   ]
  },
  {
   "cell_type": "code",
   "execution_count": 17,
   "metadata": {
    "collapsed": false
   },
   "outputs": [
    {
     "data": {
      "text/plain": [
       "<matplotlib.text.Text at 0x2ad1a7e6518>"
      ]
     },
     "execution_count": 17,
     "metadata": {},
     "output_type": "execute_result"
    },
    {
     "data": {
      "image/png": "[encoded data removed]",
      "text/plain": [
       "<matplotlib.figure.Figure at 0x2ad1a769908>"
      ]
     },
     "metadata": {},
     "output_type": "display_data"
    }
   ],
   "source": [
    "jaren = {'Jaar' : [1980,1984,1988,1992,1996,2000,2004,2008,2012,2016,2020,2024,2028,2032,2036,2040]}\n",
    "pX = pd.DataFrame(jaren)\n",
    "voorspelling = lm.predict(pX)\n",
    "plt.plot(jaar1980['Jaar'],jaar1980['Totaal'], linestyle='--',\n",
    "        marker='*', markerfacecolor='blue', markersize=12)\n",
    "plt.plot(pX['Jaar'],voorspelling, linestyle='--',\n",
    "        marker='.', markerfacecolor='red', markersize=12)\n",
    "plt.xlabel(\"jaren\")\n",
    "plt.ylabel(\"aantal medailles\")\n",
    "plt.title(\"aantal medailles per jaar\")\n"
   ]
  },
  {
   "cell_type": "code",
   "execution_count": 18,
   "metadata": {
    "collapsed": false
   },
   "outputs": [
    {
     "name": "stdout",
     "output_type": "stream",
     "text": [
      "Controle voor 1980: 9\n",
      "Dit ligt niet heel dicht bij de werkelijke waarde: 3\n",
      "\n",
      "De score van 0.520 (op een maximum van 1.0) geeft aan dat de formule niet erg nauwkeurig is.\n"
     ]
    }
   ],
   "source": [
    "med1980 = jaar1980.iloc[0]['Totaal']\n",
    "ber1980 = constante + (jaarfactor * 1980)\n",
    "\n",
    "print('Controle voor 1980: {0:.0f}'.format(ber1980) )\n",
    "print('Dit ligt niet heel dicht bij de werkelijke waarde: {0:.0f}'.format(med1980))\n",
    "print('')\n",
    "\n",
    "score = lm.score(X, y)\n",
    "print(\"De score van {0:.3f} (op een maximum van 1.0) geeft aan dat de formule niet erg nauwkeurig is.\".format(score,100.0*score))"
   ]
  },
  {
   "cell_type": "code",
   "execution_count": null,
   "metadata": {
    "collapsed": false
   },
   "outputs": [],
   "source": []
  },
  {
   "cell_type": "code",
   "execution_count": null,
   "metadata": {
    "collapsed": true
   },
   "outputs": [],
   "source": []
  },
  {
   "cell_type": "code",
   "execution_count": null,
   "metadata": {
    "collapsed": true
   },
   "outputs": [],
   "source": []
  },
  {
   "cell_type": "code",
   "execution_count": null,
   "metadata": {
    "collapsed": true
   },
   "outputs": [],
   "source": []
  }
 ],
 "metadata": {
  "kernelspec": {
   "display_name": "Python 3",
   "language": "python",
   "name": "python3"
  },
  "language_info": {
   "codemirror_mode": {
    "name": "ipython",
    "version": 3
   },
   "file_extension": ".py",
   "mimetype": "text/x-python",
   "name": "python",
   "nbconvert_exporter": "python",
   "pygments_lexer": "ipython3",
   "version": "3.6.0"
  }
 },
 "nbformat": 4,
 "nbformat_minor": 2
}
